{
 "cells": [
  {
   "cell_type": "markdown",
   "id": "bf9d76fb",
   "metadata": {
    "papermill": {
     "duration": 0.017014,
     "end_time": "2023-07-13T11:25:44.318883",
     "exception": false,
     "start_time": "2023-07-13T11:25:44.301869",
     "status": "completed"
    },
    "tags": []
   },
   "source": [
    "# What Is Clustering ?"
   ]
  },
  {
   "cell_type": "markdown",
   "id": "97a18739",
   "metadata": {
    "papermill": {
     "duration": 0.016366,
     "end_time": "2023-07-13T11:25:44.352251",
     "exception": false,
     "start_time": "2023-07-13T11:25:44.335885",
     "status": "completed"
    },
    "tags": []
   },
   "source": [
    "- Clustering is a technique used in unsupervised learning to group similar data points together based on their intrinsic characteristics or similarities. It aims to identify patterns or structures in the data without prior knowledge of the groupings or labels.\n",
    "\n",
    "- In clustering, data points are grouped into clusters based on their proximity to each other in the feature space. The goal is to maximize the similarity within clusters and minimize the similarity between different clusters. Clustering algorithms assign data points to clusters by considering the similarity or dissimilarity between the data points' attributes or distances between them.\n",
    "\n",
    "- Clustering is widely used in various fields, such as data mining, pattern recognition, image analysis, customer segmentation, market research, and anomaly detection. It helps in discovering hidden patterns, understanding data distributions, and organizing large datasets into meaningful groups for further analysis or decision-making."
   ]
  },
  {
   "cell_type": "markdown",
   "id": "dd76f555",
   "metadata": {
    "papermill": {
     "duration": 0.016216,
     "end_time": "2023-07-13T11:25:44.386392",
     "exception": false,
     "start_time": "2023-07-13T11:25:44.370176",
     "status": "completed"
    },
    "tags": []
   },
   "source": [
    "![](https://static.javatpoint.com/tutorial/machine-learning/images/k-means-clustering-algorithm-in-machine-learning.png)"
   ]
  },
  {
   "cell_type": "markdown",
   "id": "9f9a215c",
   "metadata": {
    "papermill": {
     "duration": 0.016069,
     "end_time": "2023-07-13T11:25:44.419093",
     "exception": false,
     "start_time": "2023-07-13T11:25:44.403024",
     "status": "completed"
    },
    "tags": []
   },
   "source": [
    "# Business Problem\n",
    "\n",
    "- You have been assigned as a social media analyst responsible for managing a company's social media accounts. The company aims to analyze the performance of its social media posts and achieve the best results. Therefore, you and your team are starting to examine a dataset that contains data on social media posts.\n",
    "\n",
    "- You will use the dataset to analyze the performance of the company's social media posts. Your goal is to compare the interaction and sharing rates of different types of posts. This way, you aim to discover which types of posts can generate more engagement and shares for the company."
   ]
  },
  {
   "cell_type": "markdown",
   "id": "3d79b9ae",
   "metadata": {
    "papermill": {
     "duration": 0.016129,
     "end_time": "2023-07-13T11:25:44.451862",
     "exception": false,
     "start_time": "2023-07-13T11:25:44.435733",
     "status": "completed"
    },
    "tags": []
   },
   "source": [
    "# Data Story\n",
    "\n",
    "- **The dataset contains features of social media posts. Here are the explanations of the variables in the dataset:**\n",
    "\n",
    "* **num_reactions:** Total number of reactions received by the post\n",
    "* **num_comments:** Total number of comments received by the post\n",
    "* **num_shares:** Number of shares of the post\n",
    "* **num_likes:** Number of \"likes\" received by the post\n",
    "* **num_loves:** Number of \"loves\" reactions received by the post\n",
    "* **num_wows:** Number of \"wows\" reactions received by the post\n",
    "* **num_hahas:** Number of \"haha\" reactions received by the post\n",
    "* **num_sads:** Number of \"sad\" reactions received by the post\n",
    "* **num_angrys:** Number of \"angry\" reactions received by the post\n",
    "* **status_type_link:** 1 if the post contains a link, 0 otherwise\n",
    "* **status_type_photo:** 1 if the post contains a photo, 0 otherwise\n",
    "* **status_type_status:** 1 if the post contains text, 0 otherwise\n",
    "* **status_type_video:** 1 if the post contains a video, 0 otherwise"
   ]
  },
  {
   "cell_type": "markdown",
   "id": "1bdefc47",
   "metadata": {
    "papermill": {
     "duration": 0.016241,
     "end_time": "2023-07-13T11:25:44.484949",
     "exception": false,
     "start_time": "2023-07-13T11:25:44.468708",
     "status": "completed"
    },
    "tags": []
   },
   "source": [
    "# Road Map\n",
    "\n",
    "- **1. Import Required Libraries**\n",
    "- **2. Loading the Data Set**\n",
    "- **3. Checking the Data Set Columns**\n",
    "- **4. Creating a Model Object**\n",
    "- **5. Model Training**\n",
    "- **6. Model Predictions**\n",
    "- **7. Unique Labels and their Counts**\n",
    "- **8. Silhouette Analysis for Different Numbers of Clusters: KMeans Clusterin**\n",
    "- **9. Creating a Model Object**\n",
    "- **10. Model Training**\n",
    "- **11. Model Predictions**\n",
    "- **12. Unique Labels and their Counts**\n",
    "- **13. Mean Number of Comments for Group Zero**\n",
    "- **14. Mean Number of Comments for Group One**\n",
    "- **15. Mean Number of Comments for Group Two**\n",
    "- **16. Mean Number of Comments for Group Three**\n",
    "- **17. Mean Number of Shares for Group Zero**\n",
    "- **18. Mean Number of Shares for Group One**\n",
    "- **19. Mean Number of Shares for Group Two**\n",
    "- **20. Mean Number of Shares for Group Three**\n",
    "- **21. Most Frequent Status Type**\n",
    "- **22. Merged Dataset with Labels and Status Type**\n",
    "- **23. Count of Status Types for Each Label**"
   ]
  },
  {
   "cell_type": "markdown",
   "id": "0ca3d53b",
   "metadata": {
    "papermill": {
     "duration": 0.016135,
     "end_time": "2023-07-13T11:25:44.517693",
     "exception": false,
     "start_time": "2023-07-13T11:25:44.501558",
     "status": "completed"
    },
    "tags": []
   },
   "source": [
    "# 1. Import Required Libraries"
   ]
  },
  {
   "cell_type": "code",
   "execution_count": 1,
   "id": "54036029",
   "metadata": {
    "execution": {
     "iopub.execute_input": "2023-07-13T11:25:44.552276Z",
     "iopub.status.busy": "2023-07-13T11:25:44.551862Z",
     "iopub.status.idle": "2023-07-13T11:25:46.300105Z",
     "shell.execute_reply": "2023-07-13T11:25:46.299052Z"
    },
    "papermill": {
     "duration": 1.768984,
     "end_time": "2023-07-13T11:25:46.303153",
     "exception": false,
     "start_time": "2023-07-13T11:25:44.534169",
     "status": "completed"
    },
    "tags": []
   },
   "outputs": [
    {
     "name": "stderr",
     "output_type": "stream",
     "text": [
      "/opt/conda/lib/python3.10/site-packages/scipy/__init__.py:146: UserWarning: A NumPy version >=1.16.5 and <1.23.0 is required for this version of SciPy (detected version 1.23.5\n",
      "  warnings.warn(f\"A NumPy version >={np_minversion} and <{np_maxversion}\"\n"
     ]
    }
   ],
   "source": [
    "import pandas as pd\n",
    "import numpy as np\n",
    "import matplotlib.pyplot as plt\n",
    "import warnings\n",
    "\n",
    "from sklearn.cluster import KMeans\n",
    "from sklearn.metrics import silhouette_score\n",
    "from sklearn.cluster import KMeans\n",
    "\n",
    "warnings.simplefilter(action=\"ignore\")"
   ]
  },
  {
   "cell_type": "markdown",
   "id": "7598fb5c",
   "metadata": {
    "papermill": {
     "duration": 0.016381,
     "end_time": "2023-07-13T11:25:46.336649",
     "exception": false,
     "start_time": "2023-07-13T11:25:46.320268",
     "status": "completed"
    },
    "tags": []
   },
   "source": [
    "# 2. Loading the Data Set"
   ]
  },
  {
   "cell_type": "code",
   "execution_count": 2,
   "id": "b616731d",
   "metadata": {
    "execution": {
     "iopub.execute_input": "2023-07-13T11:25:46.372397Z",
     "iopub.status.busy": "2023-07-13T11:25:46.371617Z",
     "iopub.status.idle": "2023-07-13T11:25:46.423181Z",
     "shell.execute_reply": "2023-07-13T11:25:46.421536Z"
    },
    "papermill": {
     "duration": 0.073042,
     "end_time": "2023-07-13T11:25:46.426460",
     "exception": false,
     "start_time": "2023-07-13T11:25:46.353418",
     "status": "completed"
    },
    "tags": []
   },
   "outputs": [],
   "source": [
    "dataset = pd.read_csv(\"/kaggle/input/livedataset/Live.csv\")\n"
   ]
  },
  {
   "cell_type": "markdown",
   "id": "86efa10c",
   "metadata": {
    "papermill": {
     "duration": 0.017136,
     "end_time": "2023-07-13T11:25:46.460897",
     "exception": false,
     "start_time": "2023-07-13T11:25:46.443761",
     "status": "completed"
    },
    "tags": []
   },
   "source": [
    "# 3. Checking the Data Set Columns"
   ]
  },
  {
   "cell_type": "code",
   "execution_count": 3,
   "id": "85f03ffb",
   "metadata": {
    "execution": {
     "iopub.execute_input": "2023-07-13T11:25:46.497449Z",
     "iopub.status.busy": "2023-07-13T11:25:46.497002Z",
     "iopub.status.idle": "2023-07-13T11:25:46.531142Z",
     "shell.execute_reply": "2023-07-13T11:25:46.529895Z"
    },
    "papermill": {
     "duration": 0.055061,
     "end_time": "2023-07-13T11:25:46.533781",
     "exception": false,
     "start_time": "2023-07-13T11:25:46.478720",
     "status": "completed"
    },
    "tags": []
   },
   "outputs": [
    {
     "data": {
      "text/html": [
       "<div>\n",
       "<style scoped>\n",
       "    .dataframe tbody tr th:only-of-type {\n",
       "        vertical-align: middle;\n",
       "    }\n",
       "\n",
       "    .dataframe tbody tr th {\n",
       "        vertical-align: top;\n",
       "    }\n",
       "\n",
       "    .dataframe thead th {\n",
       "        text-align: right;\n",
       "    }\n",
       "</style>\n",
       "<table border=\"1\" class=\"dataframe\">\n",
       "  <thead>\n",
       "    <tr style=\"text-align: right;\">\n",
       "      <th></th>\n",
       "      <th>num_reactions</th>\n",
       "      <th>num_comments</th>\n",
       "      <th>num_shares</th>\n",
       "      <th>num_likes</th>\n",
       "      <th>num_loves</th>\n",
       "      <th>num_wows</th>\n",
       "      <th>num_hahas</th>\n",
       "      <th>num_sads</th>\n",
       "      <th>num_angrys</th>\n",
       "      <th>status_type_link</th>\n",
       "      <th>status_type_photo</th>\n",
       "      <th>status_type_status</th>\n",
       "      <th>status_type_video</th>\n",
       "    </tr>\n",
       "  </thead>\n",
       "  <tbody>\n",
       "    <tr>\n",
       "      <th>0</th>\n",
       "      <td>0.112314</td>\n",
       "      <td>0.024393</td>\n",
       "      <td>0.076519</td>\n",
       "      <td>0.091720</td>\n",
       "      <td>0.140030</td>\n",
       "      <td>0.010791</td>\n",
       "      <td>0.006369</td>\n",
       "      <td>0.019608</td>\n",
       "      <td>0.0</td>\n",
       "      <td>0.0</td>\n",
       "      <td>0.0</td>\n",
       "      <td>0.0</td>\n",
       "      <td>1.0</td>\n",
       "    </tr>\n",
       "    <tr>\n",
       "      <th>1</th>\n",
       "      <td>0.031847</td>\n",
       "      <td>0.000000</td>\n",
       "      <td>0.000000</td>\n",
       "      <td>0.031847</td>\n",
       "      <td>0.000000</td>\n",
       "      <td>0.000000</td>\n",
       "      <td>0.000000</td>\n",
       "      <td>0.000000</td>\n",
       "      <td>0.0</td>\n",
       "      <td>0.0</td>\n",
       "      <td>1.0</td>\n",
       "      <td>0.0</td>\n",
       "      <td>0.0</td>\n",
       "    </tr>\n",
       "    <tr>\n",
       "      <th>2</th>\n",
       "      <td>0.048195</td>\n",
       "      <td>0.011243</td>\n",
       "      <td>0.016647</td>\n",
       "      <td>0.043312</td>\n",
       "      <td>0.031963</td>\n",
       "      <td>0.003597</td>\n",
       "      <td>0.006369</td>\n",
       "      <td>0.000000</td>\n",
       "      <td>0.0</td>\n",
       "      <td>0.0</td>\n",
       "      <td>0.0</td>\n",
       "      <td>0.0</td>\n",
       "      <td>1.0</td>\n",
       "    </tr>\n",
       "    <tr>\n",
       "      <th>3</th>\n",
       "      <td>0.023567</td>\n",
       "      <td>0.000000</td>\n",
       "      <td>0.000000</td>\n",
       "      <td>0.023567</td>\n",
       "      <td>0.000000</td>\n",
       "      <td>0.000000</td>\n",
       "      <td>0.000000</td>\n",
       "      <td>0.000000</td>\n",
       "      <td>0.0</td>\n",
       "      <td>0.0</td>\n",
       "      <td>1.0</td>\n",
       "      <td>0.0</td>\n",
       "      <td>0.0</td>\n",
       "    </tr>\n",
       "    <tr>\n",
       "      <th>4</th>\n",
       "      <td>0.045223</td>\n",
       "      <td>0.000000</td>\n",
       "      <td>0.000000</td>\n",
       "      <td>0.043312</td>\n",
       "      <td>0.013699</td>\n",
       "      <td>0.000000</td>\n",
       "      <td>0.000000</td>\n",
       "      <td>0.000000</td>\n",
       "      <td>0.0</td>\n",
       "      <td>0.0</td>\n",
       "      <td>1.0</td>\n",
       "      <td>0.0</td>\n",
       "      <td>0.0</td>\n",
       "    </tr>\n",
       "  </tbody>\n",
       "</table>\n",
       "</div>"
      ],
      "text/plain": [
       "   num_reactions  num_comments  num_shares  num_likes  num_loves  num_wows  \\\n",
       "0       0.112314      0.024393    0.076519   0.091720   0.140030  0.010791   \n",
       "1       0.031847      0.000000    0.000000   0.031847   0.000000  0.000000   \n",
       "2       0.048195      0.011243    0.016647   0.043312   0.031963  0.003597   \n",
       "3       0.023567      0.000000    0.000000   0.023567   0.000000  0.000000   \n",
       "4       0.045223      0.000000    0.000000   0.043312   0.013699  0.000000   \n",
       "\n",
       "   num_hahas  num_sads  num_angrys  status_type_link  status_type_photo  \\\n",
       "0   0.006369  0.019608         0.0               0.0                0.0   \n",
       "1   0.000000  0.000000         0.0               0.0                1.0   \n",
       "2   0.006369  0.000000         0.0               0.0                0.0   \n",
       "3   0.000000  0.000000         0.0               0.0                1.0   \n",
       "4   0.000000  0.000000         0.0               0.0                1.0   \n",
       "\n",
       "   status_type_status  status_type_video  \n",
       "0                 0.0                1.0  \n",
       "1                 0.0                0.0  \n",
       "2                 0.0                1.0  \n",
       "3                 0.0                0.0  \n",
       "4                 0.0                0.0  "
      ]
     },
     "execution_count": 3,
     "metadata": {},
     "output_type": "execute_result"
    }
   ],
   "source": [
    "dataset.head()"
   ]
  },
  {
   "cell_type": "code",
   "execution_count": 4,
   "id": "649e9cbf",
   "metadata": {
    "execution": {
     "iopub.execute_input": "2023-07-13T11:25:46.570602Z",
     "iopub.status.busy": "2023-07-13T11:25:46.570182Z",
     "iopub.status.idle": "2023-07-13T11:25:46.592955Z",
     "shell.execute_reply": "2023-07-13T11:25:46.592093Z"
    },
    "papermill": {
     "duration": 0.044312,
     "end_time": "2023-07-13T11:25:46.595198",
     "exception": false,
     "start_time": "2023-07-13T11:25:46.550886",
     "status": "completed"
    },
    "tags": []
   },
   "outputs": [
    {
     "data": {
      "text/html": [
       "<div>\n",
       "<style scoped>\n",
       "    .dataframe tbody tr th:only-of-type {\n",
       "        vertical-align: middle;\n",
       "    }\n",
       "\n",
       "    .dataframe tbody tr th {\n",
       "        vertical-align: top;\n",
       "    }\n",
       "\n",
       "    .dataframe thead th {\n",
       "        text-align: right;\n",
       "    }\n",
       "</style>\n",
       "<table border=\"1\" class=\"dataframe\">\n",
       "  <thead>\n",
       "    <tr style=\"text-align: right;\">\n",
       "      <th></th>\n",
       "      <th>num_reactions</th>\n",
       "      <th>num_comments</th>\n",
       "      <th>num_shares</th>\n",
       "      <th>num_likes</th>\n",
       "      <th>num_loves</th>\n",
       "      <th>num_wows</th>\n",
       "      <th>num_hahas</th>\n",
       "      <th>num_sads</th>\n",
       "      <th>num_angrys</th>\n",
       "      <th>status_type_link</th>\n",
       "      <th>status_type_photo</th>\n",
       "      <th>status_type_status</th>\n",
       "      <th>status_type_video</th>\n",
       "    </tr>\n",
       "  </thead>\n",
       "  <tbody>\n",
       "    <tr>\n",
       "      <th>7045</th>\n",
       "      <td>0.018896</td>\n",
       "      <td>0.000000</td>\n",
       "      <td>0.000000</td>\n",
       "      <td>0.018896</td>\n",
       "      <td>0.000000</td>\n",
       "      <td>0.0</td>\n",
       "      <td>0.000000</td>\n",
       "      <td>0.0</td>\n",
       "      <td>0.0</td>\n",
       "      <td>0.0</td>\n",
       "      <td>1.0</td>\n",
       "      <td>0.0</td>\n",
       "      <td>0.0</td>\n",
       "    </tr>\n",
       "    <tr>\n",
       "      <th>7046</th>\n",
       "      <td>0.003397</td>\n",
       "      <td>0.000000</td>\n",
       "      <td>0.000000</td>\n",
       "      <td>0.002972</td>\n",
       "      <td>0.001522</td>\n",
       "      <td>0.0</td>\n",
       "      <td>0.006369</td>\n",
       "      <td>0.0</td>\n",
       "      <td>0.0</td>\n",
       "      <td>0.0</td>\n",
       "      <td>1.0</td>\n",
       "      <td>0.0</td>\n",
       "      <td>0.0</td>\n",
       "    </tr>\n",
       "    <tr>\n",
       "      <th>7047</th>\n",
       "      <td>0.000425</td>\n",
       "      <td>0.000000</td>\n",
       "      <td>0.000000</td>\n",
       "      <td>0.000212</td>\n",
       "      <td>0.001522</td>\n",
       "      <td>0.0</td>\n",
       "      <td>0.000000</td>\n",
       "      <td>0.0</td>\n",
       "      <td>0.0</td>\n",
       "      <td>0.0</td>\n",
       "      <td>1.0</td>\n",
       "      <td>0.0</td>\n",
       "      <td>0.0</td>\n",
       "    </tr>\n",
       "    <tr>\n",
       "      <th>7048</th>\n",
       "      <td>0.074522</td>\n",
       "      <td>0.000572</td>\n",
       "      <td>0.006425</td>\n",
       "      <td>0.074098</td>\n",
       "      <td>0.003044</td>\n",
       "      <td>0.0</td>\n",
       "      <td>0.000000</td>\n",
       "      <td>0.0</td>\n",
       "      <td>0.0</td>\n",
       "      <td>0.0</td>\n",
       "      <td>1.0</td>\n",
       "      <td>0.0</td>\n",
       "      <td>0.0</td>\n",
       "    </tr>\n",
       "    <tr>\n",
       "      <th>7049</th>\n",
       "      <td>0.003609</td>\n",
       "      <td>0.000000</td>\n",
       "      <td>0.000000</td>\n",
       "      <td>0.003609</td>\n",
       "      <td>0.000000</td>\n",
       "      <td>0.0</td>\n",
       "      <td>0.000000</td>\n",
       "      <td>0.0</td>\n",
       "      <td>0.0</td>\n",
       "      <td>0.0</td>\n",
       "      <td>1.0</td>\n",
       "      <td>0.0</td>\n",
       "      <td>0.0</td>\n",
       "    </tr>\n",
       "  </tbody>\n",
       "</table>\n",
       "</div>"
      ],
      "text/plain": [
       "      num_reactions  num_comments  num_shares  num_likes  num_loves  num_wows  \\\n",
       "7045       0.018896      0.000000    0.000000   0.018896   0.000000       0.0   \n",
       "7046       0.003397      0.000000    0.000000   0.002972   0.001522       0.0   \n",
       "7047       0.000425      0.000000    0.000000   0.000212   0.001522       0.0   \n",
       "7048       0.074522      0.000572    0.006425   0.074098   0.003044       0.0   \n",
       "7049       0.003609      0.000000    0.000000   0.003609   0.000000       0.0   \n",
       "\n",
       "      num_hahas  num_sads  num_angrys  status_type_link  status_type_photo  \\\n",
       "7045   0.000000       0.0         0.0               0.0                1.0   \n",
       "7046   0.006369       0.0         0.0               0.0                1.0   \n",
       "7047   0.000000       0.0         0.0               0.0                1.0   \n",
       "7048   0.000000       0.0         0.0               0.0                1.0   \n",
       "7049   0.000000       0.0         0.0               0.0                1.0   \n",
       "\n",
       "      status_type_status  status_type_video  \n",
       "7045                 0.0                0.0  \n",
       "7046                 0.0                0.0  \n",
       "7047                 0.0                0.0  \n",
       "7048                 0.0                0.0  \n",
       "7049                 0.0                0.0  "
      ]
     },
     "execution_count": 4,
     "metadata": {},
     "output_type": "execute_result"
    }
   ],
   "source": [
    "dataset.tail()"
   ]
  },
  {
   "cell_type": "markdown",
   "id": "e19184c1",
   "metadata": {
    "papermill": {
     "duration": 0.016865,
     "end_time": "2023-07-13T11:25:46.630072",
     "exception": false,
     "start_time": "2023-07-13T11:25:46.613207",
     "status": "completed"
    },
    "tags": []
   },
   "source": [
    "# 4. Creating a Model Object"
   ]
  },
  {
   "cell_type": "code",
   "execution_count": 5,
   "id": "a2479018",
   "metadata": {
    "execution": {
     "iopub.execute_input": "2023-07-13T11:25:46.666555Z",
     "iopub.status.busy": "2023-07-13T11:25:46.666070Z",
     "iopub.status.idle": "2023-07-13T11:25:46.671582Z",
     "shell.execute_reply": "2023-07-13T11:25:46.670448Z"
    },
    "papermill": {
     "duration": 0.026747,
     "end_time": "2023-07-13T11:25:46.674140",
     "exception": false,
     "start_time": "2023-07-13T11:25:46.647393",
     "status": "completed"
    },
    "tags": []
   },
   "outputs": [],
   "source": [
    "model = KMeans(n_clusters=3)"
   ]
  },
  {
   "cell_type": "markdown",
   "id": "fb542474",
   "metadata": {
    "papermill": {
     "duration": 0.017521,
     "end_time": "2023-07-13T11:25:46.709148",
     "exception": false,
     "start_time": "2023-07-13T11:25:46.691627",
     "status": "completed"
    },
    "tags": []
   },
   "source": [
    "# 5. Model Training"
   ]
  },
  {
   "cell_type": "code",
   "execution_count": 6,
   "id": "6b42834e",
   "metadata": {
    "execution": {
     "iopub.execute_input": "2023-07-13T11:25:46.745455Z",
     "iopub.status.busy": "2023-07-13T11:25:46.745008Z",
     "iopub.status.idle": "2023-07-13T11:25:47.841020Z",
     "shell.execute_reply": "2023-07-13T11:25:47.839985Z"
    },
    "papermill": {
     "duration": 1.117308,
     "end_time": "2023-07-13T11:25:47.843679",
     "exception": false,
     "start_time": "2023-07-13T11:25:46.726371",
     "status": "completed"
    },
    "tags": []
   },
   "outputs": [
    {
     "data": {
      "text/html": [
       "<style>#sk-container-id-1 {color: black;background-color: white;}#sk-container-id-1 pre{padding: 0;}#sk-container-id-1 div.sk-toggleable {background-color: white;}#sk-container-id-1 label.sk-toggleable__label {cursor: pointer;display: block;width: 100%;margin-bottom: 0;padding: 0.3em;box-sizing: border-box;text-align: center;}#sk-container-id-1 label.sk-toggleable__label-arrow:before {content: \"▸\";float: left;margin-right: 0.25em;color: #696969;}#sk-container-id-1 label.sk-toggleable__label-arrow:hover:before {color: black;}#sk-container-id-1 div.sk-estimator:hover label.sk-toggleable__label-arrow:before {color: black;}#sk-container-id-1 div.sk-toggleable__content {max-height: 0;max-width: 0;overflow: hidden;text-align: left;background-color: #f0f8ff;}#sk-container-id-1 div.sk-toggleable__content pre {margin: 0.2em;color: black;border-radius: 0.25em;background-color: #f0f8ff;}#sk-container-id-1 input.sk-toggleable__control:checked~div.sk-toggleable__content {max-height: 200px;max-width: 100%;overflow: auto;}#sk-container-id-1 input.sk-toggleable__control:checked~label.sk-toggleable__label-arrow:before {content: \"▾\";}#sk-container-id-1 div.sk-estimator input.sk-toggleable__control:checked~label.sk-toggleable__label {background-color: #d4ebff;}#sk-container-id-1 div.sk-label input.sk-toggleable__control:checked~label.sk-toggleable__label {background-color: #d4ebff;}#sk-container-id-1 input.sk-hidden--visually {border: 0;clip: rect(1px 1px 1px 1px);clip: rect(1px, 1px, 1px, 1px);height: 1px;margin: -1px;overflow: hidden;padding: 0;position: absolute;width: 1px;}#sk-container-id-1 div.sk-estimator {font-family: monospace;background-color: #f0f8ff;border: 1px dotted black;border-radius: 0.25em;box-sizing: border-box;margin-bottom: 0.5em;}#sk-container-id-1 div.sk-estimator:hover {background-color: #d4ebff;}#sk-container-id-1 div.sk-parallel-item::after {content: \"\";width: 100%;border-bottom: 1px solid gray;flex-grow: 1;}#sk-container-id-1 div.sk-label:hover label.sk-toggleable__label {background-color: #d4ebff;}#sk-container-id-1 div.sk-serial::before {content: \"\";position: absolute;border-left: 1px solid gray;box-sizing: border-box;top: 0;bottom: 0;left: 50%;z-index: 0;}#sk-container-id-1 div.sk-serial {display: flex;flex-direction: column;align-items: center;background-color: white;padding-right: 0.2em;padding-left: 0.2em;position: relative;}#sk-container-id-1 div.sk-item {position: relative;z-index: 1;}#sk-container-id-1 div.sk-parallel {display: flex;align-items: stretch;justify-content: center;background-color: white;position: relative;}#sk-container-id-1 div.sk-item::before, #sk-container-id-1 div.sk-parallel-item::before {content: \"\";position: absolute;border-left: 1px solid gray;box-sizing: border-box;top: 0;bottom: 0;left: 50%;z-index: -1;}#sk-container-id-1 div.sk-parallel-item {display: flex;flex-direction: column;z-index: 1;position: relative;background-color: white;}#sk-container-id-1 div.sk-parallel-item:first-child::after {align-self: flex-end;width: 50%;}#sk-container-id-1 div.sk-parallel-item:last-child::after {align-self: flex-start;width: 50%;}#sk-container-id-1 div.sk-parallel-item:only-child::after {width: 0;}#sk-container-id-1 div.sk-dashed-wrapped {border: 1px dashed gray;margin: 0 0.4em 0.5em 0.4em;box-sizing: border-box;padding-bottom: 0.4em;background-color: white;}#sk-container-id-1 div.sk-label label {font-family: monospace;font-weight: bold;display: inline-block;line-height: 1.2em;}#sk-container-id-1 div.sk-label-container {text-align: center;}#sk-container-id-1 div.sk-container {/* jupyter's `normalize.less` sets `[hidden] { display: none; }` but bootstrap.min.css set `[hidden] { display: none !important; }` so we also need the `!important` here to be able to override the default hidden behavior on the sphinx rendered scikit-learn.org. See: https://github.com/scikit-learn/scikit-learn/issues/21755 */display: inline-block !important;position: relative;}#sk-container-id-1 div.sk-text-repr-fallback {display: none;}</style><div id=\"sk-container-id-1\" class=\"sk-top-container\"><div class=\"sk-text-repr-fallback\"><pre>KMeans(n_clusters=3)</pre><b>In a Jupyter environment, please rerun this cell to show the HTML representation or trust the notebook. <br />On GitHub, the HTML representation is unable to render, please try loading this page with nbviewer.org.</b></div><div class=\"sk-container\" hidden><div class=\"sk-item\"><div class=\"sk-estimator sk-toggleable\"><input class=\"sk-toggleable__control sk-hidden--visually\" id=\"sk-estimator-id-1\" type=\"checkbox\" checked><label for=\"sk-estimator-id-1\" class=\"sk-toggleable__label sk-toggleable__label-arrow\">KMeans</label><div class=\"sk-toggleable__content\"><pre>KMeans(n_clusters=3)</pre></div></div></div></div></div>"
      ],
      "text/plain": [
       "KMeans(n_clusters=3)"
      ]
     },
     "execution_count": 6,
     "metadata": {},
     "output_type": "execute_result"
    }
   ],
   "source": [
    "model.fit(dataset)"
   ]
  },
  {
   "cell_type": "markdown",
   "id": "13d74f8a",
   "metadata": {
    "papermill": {
     "duration": 0.017928,
     "end_time": "2023-07-13T11:25:47.880326",
     "exception": false,
     "start_time": "2023-07-13T11:25:47.862398",
     "status": "completed"
    },
    "tags": []
   },
   "source": [
    "# 6. Model Predictions"
   ]
  },
  {
   "cell_type": "code",
   "execution_count": 7,
   "id": "af036c75",
   "metadata": {
    "execution": {
     "iopub.execute_input": "2023-07-13T11:25:47.919824Z",
     "iopub.status.busy": "2023-07-13T11:25:47.918934Z",
     "iopub.status.idle": "2023-07-13T11:25:47.929232Z",
     "shell.execute_reply": "2023-07-13T11:25:47.928211Z"
    },
    "papermill": {
     "duration": 0.033094,
     "end_time": "2023-07-13T11:25:47.932472",
     "exception": false,
     "start_time": "2023-07-13T11:25:47.899378",
     "status": "completed"
    },
    "tags": []
   },
   "outputs": [],
   "source": [
    "labels = model.predict(dataset)"
   ]
  },
  {
   "cell_type": "markdown",
   "id": "2240c87c",
   "metadata": {
    "papermill": {
     "duration": 0.017601,
     "end_time": "2023-07-13T11:25:47.970102",
     "exception": false,
     "start_time": "2023-07-13T11:25:47.952501",
     "status": "completed"
    },
    "tags": []
   },
   "source": [
    "# 7. Unique Labels and their Counts"
   ]
  },
  {
   "cell_type": "code",
   "execution_count": 8,
   "id": "672b1af2",
   "metadata": {
    "execution": {
     "iopub.execute_input": "2023-07-13T11:25:48.007737Z",
     "iopub.status.busy": "2023-07-13T11:25:48.007338Z",
     "iopub.status.idle": "2023-07-13T11:25:48.016823Z",
     "shell.execute_reply": "2023-07-13T11:25:48.015742Z"
    },
    "papermill": {
     "duration": 0.031415,
     "end_time": "2023-07-13T11:25:48.019333",
     "exception": false,
     "start_time": "2023-07-13T11:25:47.987918",
     "status": "completed"
    },
    "tags": []
   },
   "outputs": [
    {
     "data": {
      "text/plain": [
       "(array([0, 1, 2], dtype=int32), array([4288, 2334,  428]))"
      ]
     },
     "execution_count": 8,
     "metadata": {},
     "output_type": "execute_result"
    }
   ],
   "source": [
    "np.unique(labels, return_counts=True)"
   ]
  },
  {
   "cell_type": "markdown",
   "id": "76a9cbd6",
   "metadata": {
    "papermill": {
     "duration": 0.017869,
     "end_time": "2023-07-13T11:25:48.055083",
     "exception": false,
     "start_time": "2023-07-13T11:25:48.037214",
     "status": "completed"
    },
    "tags": []
   },
   "source": [
    "# 8. Silhouette Analysis for Different Numbers of Clusters: KMeans Clusterin"
   ]
  },
  {
   "cell_type": "code",
   "execution_count": 9,
   "id": "4b9f2438",
   "metadata": {
    "execution": {
     "iopub.execute_input": "2023-07-13T11:25:48.093630Z",
     "iopub.status.busy": "2023-07-13T11:25:48.092781Z",
     "iopub.status.idle": "2023-07-13T11:26:09.489967Z",
     "shell.execute_reply": "2023-07-13T11:26:09.488962Z"
    },
    "papermill": {
     "duration": 21.419468,
     "end_time": "2023-07-13T11:26:09.492608",
     "exception": false,
     "start_time": "2023-07-13T11:25:48.073140",
     "status": "completed"
    },
    "tags": []
   },
   "outputs": [
    {
     "name": "stdout",
     "output_type": "stream",
     "text": [
      "For n_clusters=2, The Silhouette Coefficient is 0.8188237721696822\n",
      "For n_clusters=3, The Silhouette Coefficient is 0.8972493682244883\n",
      "For n_clusters=4, The Silhouette Coefficient is 0.9106664962327088\n",
      "For n_clusters=5, The Silhouette Coefficient is 0.8866768371183754\n",
      "For n_clusters=6, The Silhouette Coefficient is 0.8430118288915796\n",
      "For n_clusters=7, The Silhouette Coefficient is 0.8419421782294257\n",
      "For n_clusters=8, The Silhouette Coefficient is 0.8370052625268489\n",
      "For n_clusters=9, The Silhouette Coefficient is 0.7614365389055606\n",
      "For n_clusters=10, The Silhouette Coefficient is 0.7252393429743081\n",
      "For n_clusters=11, The Silhouette Coefficient is 0.720598215801973\n"
     ]
    },
    {
     "data": {
      "image/png": "[encoded data removed]",
      "text/plain": [
       "<Figure size 1200x800 with 1 Axes>"
      ]
     },
     "metadata": {},
     "output_type": "display_data"
    }
   ],
   "source": [
    "silhouettes = []\n",
    "ks = list(range(2, 12))\n",
    "for n_cluster in ks:\n",
    "    kmeans = KMeans(n_clusters=n_cluster).fit(dataset)\n",
    "    label = kmeans.labels_\n",
    "    sil_coeff = silhouette_score(dataset, label, metric='euclidean')\n",
    "    print(\"For n_clusters={}, The Silhouette Coefficient is {}\".format(n_cluster, sil_coeff))\n",
    "    silhouettes.append(sil_coeff)\n",
    "\n",
    "plt.figure(figsize=(12, 8))    \n",
    "plt.subplot(211)\n",
    "plt.scatter(ks, silhouettes, marker='x', c='r')\n",
    "plt.plot(ks, silhouettes)\n",
    "plt.xlabel('k')\n",
    "plt.ylabel('Silhouette score');"
   ]
  },
  {
   "cell_type": "markdown",
   "id": "fc4125e8",
   "metadata": {
    "papermill": {
     "duration": 0.018992,
     "end_time": "2023-07-13T11:26:09.530972",
     "exception": false,
     "start_time": "2023-07-13T11:26:09.511980",
     "status": "completed"
    },
    "tags": []
   },
   "source": [
    "# 9. Creating a Model Object"
   ]
  },
  {
   "cell_type": "code",
   "execution_count": 10,
   "id": "43506ee8",
   "metadata": {
    "execution": {
     "iopub.execute_input": "2023-07-13T11:26:09.571857Z",
     "iopub.status.busy": "2023-07-13T11:26:09.571473Z",
     "iopub.status.idle": "2023-07-13T11:26:09.576577Z",
     "shell.execute_reply": "2023-07-13T11:26:09.575453Z"
    },
    "papermill": {
     "duration": 0.028486,
     "end_time": "2023-07-13T11:26:09.579185",
     "exception": false,
     "start_time": "2023-07-13T11:26:09.550699",
     "status": "completed"
    },
    "tags": []
   },
   "outputs": [],
   "source": [
    "model = KMeans(n_clusters=4)"
   ]
  },
  {
   "cell_type": "markdown",
   "id": "dfc99210",
   "metadata": {
    "papermill": {
     "duration": 0.019044,
     "end_time": "2023-07-13T11:26:09.620630",
     "exception": false,
     "start_time": "2023-07-13T11:26:09.601586",
     "status": "completed"
    },
    "tags": []
   },
   "source": [
    "# 10. Model Training"
   ]
  },
  {
   "cell_type": "code",
   "execution_count": 11,
   "id": "9cacf5d5",
   "metadata": {
    "execution": {
     "iopub.execute_input": "2023-07-13T11:26:09.661268Z",
     "iopub.status.busy": "2023-07-13T11:26:09.660889Z",
     "iopub.status.idle": "2023-07-13T11:26:10.832244Z",
     "shell.execute_reply": "2023-07-13T11:26:10.831209Z"
    },
    "papermill": {
     "duration": 1.194876,
     "end_time": "2023-07-13T11:26:10.834937",
     "exception": false,
     "start_time": "2023-07-13T11:26:09.640061",
     "status": "completed"
    },
    "tags": []
   },
   "outputs": [
    {
     "data": {
      "text/html": [
       "<style>#sk-container-id-2 {color: black;background-color: white;}#sk-container-id-2 pre{padding: 0;}#sk-container-id-2 div.sk-toggleable {background-color: white;}#sk-container-id-2 label.sk-toggleable__label {cursor: pointer;display: block;width: 100%;margin-bottom: 0;padding: 0.3em;box-sizing: border-box;text-align: center;}#sk-container-id-2 label.sk-toggleable__label-arrow:before {content: \"▸\";float: left;margin-right: 0.25em;color: #696969;}#sk-container-id-2 label.sk-toggleable__label-arrow:hover:before {color: black;}#sk-container-id-2 div.sk-estimator:hover label.sk-toggleable__label-arrow:before {color: black;}#sk-container-id-2 div.sk-toggleable__content {max-height: 0;max-width: 0;overflow: hidden;text-align: left;background-color: #f0f8ff;}#sk-container-id-2 div.sk-toggleable__content pre {margin: 0.2em;color: black;border-radius: 0.25em;background-color: #f0f8ff;}#sk-container-id-2 input.sk-toggleable__control:checked~div.sk-toggleable__content {max-height: 200px;max-width: 100%;overflow: auto;}#sk-container-id-2 input.sk-toggleable__control:checked~label.sk-toggleable__label-arrow:before {content: \"▾\";}#sk-container-id-2 div.sk-estimator input.sk-toggleable__control:checked~label.sk-toggleable__label {background-color: #d4ebff;}#sk-container-id-2 div.sk-label input.sk-toggleable__control:checked~label.sk-toggleable__label {background-color: #d4ebff;}#sk-container-id-2 input.sk-hidden--visually {border: 0;clip: rect(1px 1px 1px 1px);clip: rect(1px, 1px, 1px, 1px);height: 1px;margin: -1px;overflow: hidden;padding: 0;position: absolute;width: 1px;}#sk-container-id-2 div.sk-estimator {font-family: monospace;background-color: #f0f8ff;border: 1px dotted black;border-radius: 0.25em;box-sizing: border-box;margin-bottom: 0.5em;}#sk-container-id-2 div.sk-estimator:hover {background-color: #d4ebff;}#sk-container-id-2 div.sk-parallel-item::after {content: \"\";width: 100%;border-bottom: 1px solid gray;flex-grow: 1;}#sk-container-id-2 div.sk-label:hover label.sk-toggleable__label {background-color: #d4ebff;}#sk-container-id-2 div.sk-serial::before {content: \"\";position: absolute;border-left: 1px solid gray;box-sizing: border-box;top: 0;bottom: 0;left: 50%;z-index: 0;}#sk-container-id-2 div.sk-serial {display: flex;flex-direction: column;align-items: center;background-color: white;padding-right: 0.2em;padding-left: 0.2em;position: relative;}#sk-container-id-2 div.sk-item {position: relative;z-index: 1;}#sk-container-id-2 div.sk-parallel {display: flex;align-items: stretch;justify-content: center;background-color: white;position: relative;}#sk-container-id-2 div.sk-item::before, #sk-container-id-2 div.sk-parallel-item::before {content: \"\";position: absolute;border-left: 1px solid gray;box-sizing: border-box;top: 0;bottom: 0;left: 50%;z-index: -1;}#sk-container-id-2 div.sk-parallel-item {display: flex;flex-direction: column;z-index: 1;position: relative;background-color: white;}#sk-container-id-2 div.sk-parallel-item:first-child::after {align-self: flex-end;width: 50%;}#sk-container-id-2 div.sk-parallel-item:last-child::after {align-self: flex-start;width: 50%;}#sk-container-id-2 div.sk-parallel-item:only-child::after {width: 0;}#sk-container-id-2 div.sk-dashed-wrapped {border: 1px dashed gray;margin: 0 0.4em 0.5em 0.4em;box-sizing: border-box;padding-bottom: 0.4em;background-color: white;}#sk-container-id-2 div.sk-label label {font-family: monospace;font-weight: bold;display: inline-block;line-height: 1.2em;}#sk-container-id-2 div.sk-label-container {text-align: center;}#sk-container-id-2 div.sk-container {/* jupyter's `normalize.less` sets `[hidden] { display: none; }` but bootstrap.min.css set `[hidden] { display: none !important; }` so we also need the `!important` here to be able to override the default hidden behavior on the sphinx rendered scikit-learn.org. See: https://github.com/scikit-learn/scikit-learn/issues/21755 */display: inline-block !important;position: relative;}#sk-container-id-2 div.sk-text-repr-fallback {display: none;}</style><div id=\"sk-container-id-2\" class=\"sk-top-container\"><div class=\"sk-text-repr-fallback\"><pre>KMeans(n_clusters=4)</pre><b>In a Jupyter environment, please rerun this cell to show the HTML representation or trust the notebook. <br />On GitHub, the HTML representation is unable to render, please try loading this page with nbviewer.org.</b></div><div class=\"sk-container\" hidden><div class=\"sk-item\"><div class=\"sk-estimator sk-toggleable\"><input class=\"sk-toggleable__control sk-hidden--visually\" id=\"sk-estimator-id-2\" type=\"checkbox\" checked><label for=\"sk-estimator-id-2\" class=\"sk-toggleable__label sk-toggleable__label-arrow\">KMeans</label><div class=\"sk-toggleable__content\"><pre>KMeans(n_clusters=4)</pre></div></div></div></div></div>"
      ],
      "text/plain": [
       "KMeans(n_clusters=4)"
      ]
     },
     "execution_count": 11,
     "metadata": {},
     "output_type": "execute_result"
    }
   ],
   "source": [
    "model.fit(dataset)"
   ]
  },
  {
   "cell_type": "markdown",
   "id": "22493f92",
   "metadata": {
    "papermill": {
     "duration": 0.019172,
     "end_time": "2023-07-13T11:26:10.878463",
     "exception": false,
     "start_time": "2023-07-13T11:26:10.859291",
     "status": "completed"
    },
    "tags": []
   },
   "source": [
    "# 11. Model Predictions"
   ]
  },
  {
   "cell_type": "code",
   "execution_count": 12,
   "id": "8a163ec9",
   "metadata": {
    "execution": {
     "iopub.execute_input": "2023-07-13T11:26:10.920210Z",
     "iopub.status.busy": "2023-07-13T11:26:10.919781Z",
     "iopub.status.idle": "2023-07-13T11:26:10.937425Z",
     "shell.execute_reply": "2023-07-13T11:26:10.936341Z"
    },
    "papermill": {
     "duration": 0.042686,
     "end_time": "2023-07-13T11:26:10.941373",
     "exception": false,
     "start_time": "2023-07-13T11:26:10.898687",
     "status": "completed"
    },
    "tags": []
   },
   "outputs": [],
   "source": [
    "labels = model.predict(dataset)"
   ]
  },
  {
   "cell_type": "markdown",
   "id": "1a33ddee",
   "metadata": {
    "papermill": {
     "duration": 0.019366,
     "end_time": "2023-07-13T11:26:10.982246",
     "exception": false,
     "start_time": "2023-07-13T11:26:10.962880",
     "status": "completed"
    },
    "tags": []
   },
   "source": [
    "# 12. Unique Labels and their Counts"
   ]
  },
  {
   "cell_type": "code",
   "execution_count": 13,
   "id": "ffd014a9",
   "metadata": {
    "execution": {
     "iopub.execute_input": "2023-07-13T11:26:11.023808Z",
     "iopub.status.busy": "2023-07-13T11:26:11.023384Z",
     "iopub.status.idle": "2023-07-13T11:26:11.031516Z",
     "shell.execute_reply": "2023-07-13T11:26:11.030436Z"
    },
    "papermill": {
     "duration": 0.031387,
     "end_time": "2023-07-13T11:26:11.033718",
     "exception": false,
     "start_time": "2023-07-13T11:26:11.002331",
     "status": "completed"
    },
    "tags": []
   },
   "outputs": [
    {
     "data": {
      "text/plain": [
       "(array([0, 1, 2, 3], dtype=int32), array([4288, 2334,  365,   63]))"
      ]
     },
     "execution_count": 13,
     "metadata": {},
     "output_type": "execute_result"
    }
   ],
   "source": [
    "np.unique(labels, return_counts=True)"
   ]
  },
  {
   "cell_type": "code",
   "execution_count": 14,
   "id": "294cef16",
   "metadata": {
    "execution": {
     "iopub.execute_input": "2023-07-13T11:26:11.075190Z",
     "iopub.status.busy": "2023-07-13T11:26:11.074543Z",
     "iopub.status.idle": "2023-07-13T11:26:11.079860Z",
     "shell.execute_reply": "2023-07-13T11:26:11.078720Z"
    },
    "papermill": {
     "duration": 0.028905,
     "end_time": "2023-07-13T11:26:11.082287",
     "exception": false,
     "start_time": "2023-07-13T11:26:11.053382",
     "status": "completed"
    },
    "tags": []
   },
   "outputs": [],
   "source": [
    "dataset[\"labels\"] = labels"
   ]
  },
  {
   "cell_type": "code",
   "execution_count": 15,
   "id": "45bcc6cc",
   "metadata": {
    "execution": {
     "iopub.execute_input": "2023-07-13T11:26:11.124805Z",
     "iopub.status.busy": "2023-07-13T11:26:11.123669Z",
     "iopub.status.idle": "2023-07-13T11:26:11.152516Z",
     "shell.execute_reply": "2023-07-13T11:26:11.151358Z"
    },
    "papermill": {
     "duration": 0.052795,
     "end_time": "2023-07-13T11:26:11.155320",
     "exception": false,
     "start_time": "2023-07-13T11:26:11.102525",
     "status": "completed"
    },
    "tags": []
   },
   "outputs": [
    {
     "data": {
      "text/html": [
       "<div>\n",
       "<style scoped>\n",
       "    .dataframe tbody tr th:only-of-type {\n",
       "        vertical-align: middle;\n",
       "    }\n",
       "\n",
       "    .dataframe tbody tr th {\n",
       "        vertical-align: top;\n",
       "    }\n",
       "\n",
       "    .dataframe thead th {\n",
       "        text-align: right;\n",
       "    }\n",
       "</style>\n",
       "<table border=\"1\" class=\"dataframe\">\n",
       "  <thead>\n",
       "    <tr style=\"text-align: right;\">\n",
       "      <th></th>\n",
       "      <th>num_reactions</th>\n",
       "      <th>num_comments</th>\n",
       "      <th>num_shares</th>\n",
       "      <th>num_likes</th>\n",
       "      <th>num_loves</th>\n",
       "      <th>num_wows</th>\n",
       "      <th>num_hahas</th>\n",
       "      <th>num_sads</th>\n",
       "      <th>num_angrys</th>\n",
       "      <th>status_type_link</th>\n",
       "      <th>status_type_photo</th>\n",
       "      <th>status_type_status</th>\n",
       "      <th>status_type_video</th>\n",
       "      <th>labels</th>\n",
       "    </tr>\n",
       "  </thead>\n",
       "  <tbody>\n",
       "    <tr>\n",
       "      <th>0</th>\n",
       "      <td>0.112314</td>\n",
       "      <td>0.024393</td>\n",
       "      <td>0.076519</td>\n",
       "      <td>0.091720</td>\n",
       "      <td>0.140030</td>\n",
       "      <td>0.010791</td>\n",
       "      <td>0.006369</td>\n",
       "      <td>0.019608</td>\n",
       "      <td>0.0</td>\n",
       "      <td>0.0</td>\n",
       "      <td>0.0</td>\n",
       "      <td>0.0</td>\n",
       "      <td>1.0</td>\n",
       "      <td>1</td>\n",
       "    </tr>\n",
       "    <tr>\n",
       "      <th>1</th>\n",
       "      <td>0.031847</td>\n",
       "      <td>0.000000</td>\n",
       "      <td>0.000000</td>\n",
       "      <td>0.031847</td>\n",
       "      <td>0.000000</td>\n",
       "      <td>0.000000</td>\n",
       "      <td>0.000000</td>\n",
       "      <td>0.000000</td>\n",
       "      <td>0.0</td>\n",
       "      <td>0.0</td>\n",
       "      <td>1.0</td>\n",
       "      <td>0.0</td>\n",
       "      <td>0.0</td>\n",
       "      <td>0</td>\n",
       "    </tr>\n",
       "    <tr>\n",
       "      <th>2</th>\n",
       "      <td>0.048195</td>\n",
       "      <td>0.011243</td>\n",
       "      <td>0.016647</td>\n",
       "      <td>0.043312</td>\n",
       "      <td>0.031963</td>\n",
       "      <td>0.003597</td>\n",
       "      <td>0.006369</td>\n",
       "      <td>0.000000</td>\n",
       "      <td>0.0</td>\n",
       "      <td>0.0</td>\n",
       "      <td>0.0</td>\n",
       "      <td>0.0</td>\n",
       "      <td>1.0</td>\n",
       "      <td>1</td>\n",
       "    </tr>\n",
       "    <tr>\n",
       "      <th>3</th>\n",
       "      <td>0.023567</td>\n",
       "      <td>0.000000</td>\n",
       "      <td>0.000000</td>\n",
       "      <td>0.023567</td>\n",
       "      <td>0.000000</td>\n",
       "      <td>0.000000</td>\n",
       "      <td>0.000000</td>\n",
       "      <td>0.000000</td>\n",
       "      <td>0.0</td>\n",
       "      <td>0.0</td>\n",
       "      <td>1.0</td>\n",
       "      <td>0.0</td>\n",
       "      <td>0.0</td>\n",
       "      <td>0</td>\n",
       "    </tr>\n",
       "    <tr>\n",
       "      <th>4</th>\n",
       "      <td>0.045223</td>\n",
       "      <td>0.000000</td>\n",
       "      <td>0.000000</td>\n",
       "      <td>0.043312</td>\n",
       "      <td>0.013699</td>\n",
       "      <td>0.000000</td>\n",
       "      <td>0.000000</td>\n",
       "      <td>0.000000</td>\n",
       "      <td>0.0</td>\n",
       "      <td>0.0</td>\n",
       "      <td>1.0</td>\n",
       "      <td>0.0</td>\n",
       "      <td>0.0</td>\n",
       "      <td>0</td>\n",
       "    </tr>\n",
       "    <tr>\n",
       "      <th>...</th>\n",
       "      <td>...</td>\n",
       "      <td>...</td>\n",
       "      <td>...</td>\n",
       "      <td>...</td>\n",
       "      <td>...</td>\n",
       "      <td>...</td>\n",
       "      <td>...</td>\n",
       "      <td>...</td>\n",
       "      <td>...</td>\n",
       "      <td>...</td>\n",
       "      <td>...</td>\n",
       "      <td>...</td>\n",
       "      <td>...</td>\n",
       "      <td>...</td>\n",
       "    </tr>\n",
       "    <tr>\n",
       "      <th>7045</th>\n",
       "      <td>0.018896</td>\n",
       "      <td>0.000000</td>\n",
       "      <td>0.000000</td>\n",
       "      <td>0.018896</td>\n",
       "      <td>0.000000</td>\n",
       "      <td>0.000000</td>\n",
       "      <td>0.000000</td>\n",
       "      <td>0.000000</td>\n",
       "      <td>0.0</td>\n",
       "      <td>0.0</td>\n",
       "      <td>1.0</td>\n",
       "      <td>0.0</td>\n",
       "      <td>0.0</td>\n",
       "      <td>0</td>\n",
       "    </tr>\n",
       "    <tr>\n",
       "      <th>7046</th>\n",
       "      <td>0.003397</td>\n",
       "      <td>0.000000</td>\n",
       "      <td>0.000000</td>\n",
       "      <td>0.002972</td>\n",
       "      <td>0.001522</td>\n",
       "      <td>0.000000</td>\n",
       "      <td>0.006369</td>\n",
       "      <td>0.000000</td>\n",
       "      <td>0.0</td>\n",
       "      <td>0.0</td>\n",
       "      <td>1.0</td>\n",
       "      <td>0.0</td>\n",
       "      <td>0.0</td>\n",
       "      <td>0</td>\n",
       "    </tr>\n",
       "    <tr>\n",
       "      <th>7047</th>\n",
       "      <td>0.000425</td>\n",
       "      <td>0.000000</td>\n",
       "      <td>0.000000</td>\n",
       "      <td>0.000212</td>\n",
       "      <td>0.001522</td>\n",
       "      <td>0.000000</td>\n",
       "      <td>0.000000</td>\n",
       "      <td>0.000000</td>\n",
       "      <td>0.0</td>\n",
       "      <td>0.0</td>\n",
       "      <td>1.0</td>\n",
       "      <td>0.0</td>\n",
       "      <td>0.0</td>\n",
       "      <td>0</td>\n",
       "    </tr>\n",
       "    <tr>\n",
       "      <th>7048</th>\n",
       "      <td>0.074522</td>\n",
       "      <td>0.000572</td>\n",
       "      <td>0.006425</td>\n",
       "      <td>0.074098</td>\n",
       "      <td>0.003044</td>\n",
       "      <td>0.000000</td>\n",
       "      <td>0.000000</td>\n",
       "      <td>0.000000</td>\n",
       "      <td>0.0</td>\n",
       "      <td>0.0</td>\n",
       "      <td>1.0</td>\n",
       "      <td>0.0</td>\n",
       "      <td>0.0</td>\n",
       "      <td>0</td>\n",
       "    </tr>\n",
       "    <tr>\n",
       "      <th>7049</th>\n",
       "      <td>0.003609</td>\n",
       "      <td>0.000000</td>\n",
       "      <td>0.000000</td>\n",
       "      <td>0.003609</td>\n",
       "      <td>0.000000</td>\n",
       "      <td>0.000000</td>\n",
       "      <td>0.000000</td>\n",
       "      <td>0.000000</td>\n",
       "      <td>0.0</td>\n",
       "      <td>0.0</td>\n",
       "      <td>1.0</td>\n",
       "      <td>0.0</td>\n",
       "      <td>0.0</td>\n",
       "      <td>0</td>\n",
       "    </tr>\n",
       "  </tbody>\n",
       "</table>\n",
       "<p>7050 rows × 14 columns</p>\n",
       "</div>"
      ],
      "text/plain": [
       "      num_reactions  num_comments  num_shares  num_likes  num_loves  num_wows  \\\n",
       "0          0.112314      0.024393    0.076519   0.091720   0.140030  0.010791   \n",
       "1          0.031847      0.000000    0.000000   0.031847   0.000000  0.000000   \n",
       "2          0.048195      0.011243    0.016647   0.043312   0.031963  0.003597   \n",
       "3          0.023567      0.000000    0.000000   0.023567   0.000000  0.000000   \n",
       "4          0.045223      0.000000    0.000000   0.043312   0.013699  0.000000   \n",
       "...             ...           ...         ...        ...        ...       ...   \n",
       "7045       0.018896      0.000000    0.000000   0.018896   0.000000  0.000000   \n",
       "7046       0.003397      0.000000    0.000000   0.002972   0.001522  0.000000   \n",
       "7047       0.000425      0.000000    0.000000   0.000212   0.001522  0.000000   \n",
       "7048       0.074522      0.000572    0.006425   0.074098   0.003044  0.000000   \n",
       "7049       0.003609      0.000000    0.000000   0.003609   0.000000  0.000000   \n",
       "\n",
       "      num_hahas  num_sads  num_angrys  status_type_link  status_type_photo  \\\n",
       "0      0.006369  0.019608         0.0               0.0                0.0   \n",
       "1      0.000000  0.000000         0.0               0.0                1.0   \n",
       "2      0.006369  0.000000         0.0               0.0                0.0   \n",
       "3      0.000000  0.000000         0.0               0.0                1.0   \n",
       "4      0.000000  0.000000         0.0               0.0                1.0   \n",
       "...         ...       ...         ...               ...                ...   \n",
       "7045   0.000000  0.000000         0.0               0.0                1.0   \n",
       "7046   0.006369  0.000000         0.0               0.0                1.0   \n",
       "7047   0.000000  0.000000         0.0               0.0                1.0   \n",
       "7048   0.000000  0.000000         0.0               0.0                1.0   \n",
       "7049   0.000000  0.000000         0.0               0.0                1.0   \n",
       "\n",
       "      status_type_status  status_type_video  labels  \n",
       "0                    0.0                1.0       1  \n",
       "1                    0.0                0.0       0  \n",
       "2                    0.0                1.0       1  \n",
       "3                    0.0                0.0       0  \n",
       "4                    0.0                0.0       0  \n",
       "...                  ...                ...     ...  \n",
       "7045                 0.0                0.0       0  \n",
       "7046                 0.0                0.0       0  \n",
       "7047                 0.0                0.0       0  \n",
       "7048                 0.0                0.0       0  \n",
       "7049                 0.0                0.0       0  \n",
       "\n",
       "[7050 rows x 14 columns]"
      ]
     },
     "execution_count": 15,
     "metadata": {},
     "output_type": "execute_result"
    }
   ],
   "source": [
    "dataset"
   ]
  },
  {
   "cell_type": "markdown",
   "id": "99906caf",
   "metadata": {
    "papermill": {
     "duration": 0.019917,
     "end_time": "2023-07-13T11:26:11.195438",
     "exception": false,
     "start_time": "2023-07-13T11:26:11.175521",
     "status": "completed"
    },
    "tags": []
   },
   "source": [
    "# 13. Mean Number of Comments for Group Zero"
   ]
  },
  {
   "cell_type": "code",
   "execution_count": 16,
   "id": "01f706d8",
   "metadata": {
    "execution": {
     "iopub.execute_input": "2023-07-13T11:26:11.238579Z",
     "iopub.status.busy": "2023-07-13T11:26:11.237433Z",
     "iopub.status.idle": "2023-07-13T11:26:11.246718Z",
     "shell.execute_reply": "2023-07-13T11:26:11.245707Z"
    },
    "papermill": {
     "duration": 0.033277,
     "end_time": "2023-07-13T11:26:11.249157",
     "exception": false,
     "start_time": "2023-07-13T11:26:11.215880",
     "status": "completed"
    },
    "tags": []
   },
   "outputs": [],
   "source": [
    "group_zero = dataset[dataset[\"labels\"]==0][\"num_comments\"].mean()"
   ]
  },
  {
   "cell_type": "code",
   "execution_count": 17,
   "id": "b4c4a487",
   "metadata": {
    "execution": {
     "iopub.execute_input": "2023-07-13T11:26:11.291815Z",
     "iopub.status.busy": "2023-07-13T11:26:11.290778Z",
     "iopub.status.idle": "2023-07-13T11:26:11.298137Z",
     "shell.execute_reply": "2023-07-13T11:26:11.296985Z"
    },
    "papermill": {
     "duration": 0.031405,
     "end_time": "2023-07-13T11:26:11.300654",
     "exception": false,
     "start_time": "2023-07-13T11:26:11.269249",
     "status": "completed"
    },
    "tags": []
   },
   "outputs": [
    {
     "data": {
      "text/plain": [
       "0.0007619566531325948"
      ]
     },
     "execution_count": 17,
     "metadata": {},
     "output_type": "execute_result"
    }
   ],
   "source": [
    "group_zero"
   ]
  },
  {
   "cell_type": "markdown",
   "id": "81d8d3eb",
   "metadata": {
    "papermill": {
     "duration": 0.020386,
     "end_time": "2023-07-13T11:26:11.341478",
     "exception": false,
     "start_time": "2023-07-13T11:26:11.321092",
     "status": "completed"
    },
    "tags": []
   },
   "source": [
    "# 14. Mean Number of Comments for Group One"
   ]
  },
  {
   "cell_type": "code",
   "execution_count": 18,
   "id": "5231ab8f",
   "metadata": {
    "execution": {
     "iopub.execute_input": "2023-07-13T11:26:11.384835Z",
     "iopub.status.busy": "2023-07-13T11:26:11.383880Z",
     "iopub.status.idle": "2023-07-13T11:26:11.390532Z",
     "shell.execute_reply": "2023-07-13T11:26:11.389356Z"
    },
    "papermill": {
     "duration": 0.031657,
     "end_time": "2023-07-13T11:26:11.393507",
     "exception": false,
     "start_time": "2023-07-13T11:26:11.361850",
     "status": "completed"
    },
    "tags": []
   },
   "outputs": [],
   "source": [
    "group_one = dataset[dataset[\"labels\"]==1][\"num_comments\"].mean()"
   ]
  },
  {
   "cell_type": "code",
   "execution_count": 19,
   "id": "3f0bf67e",
   "metadata": {
    "execution": {
     "iopub.execute_input": "2023-07-13T11:26:11.436511Z",
     "iopub.status.busy": "2023-07-13T11:26:11.436043Z",
     "iopub.status.idle": "2023-07-13T11:26:11.445484Z",
     "shell.execute_reply": "2023-07-13T11:26:11.444242Z"
    },
    "papermill": {
     "duration": 0.033485,
     "end_time": "2023-07-13T11:26:11.447951",
     "exception": false,
     "start_time": "2023-07-13T11:26:11.414466",
     "status": "completed"
    },
    "tags": []
   },
   "outputs": [
    {
     "data": {
      "text/plain": [
       "0.030608773182480054"
      ]
     },
     "execution_count": 19,
     "metadata": {},
     "output_type": "execute_result"
    }
   ],
   "source": [
    "group_one"
   ]
  },
  {
   "cell_type": "markdown",
   "id": "f1b31c0d",
   "metadata": {
    "papermill": {
     "duration": 0.020109,
     "end_time": "2023-07-13T11:26:11.488728",
     "exception": false,
     "start_time": "2023-07-13T11:26:11.468619",
     "status": "completed"
    },
    "tags": []
   },
   "source": [
    "# 15. Mean Number of Comments for Group Two"
   ]
  },
  {
   "cell_type": "code",
   "execution_count": 20,
   "id": "b713468c",
   "metadata": {
    "execution": {
     "iopub.execute_input": "2023-07-13T11:26:11.532671Z",
     "iopub.status.busy": "2023-07-13T11:26:11.532253Z",
     "iopub.status.idle": "2023-07-13T11:26:11.538713Z",
     "shell.execute_reply": "2023-07-13T11:26:11.537480Z"
    },
    "papermill": {
     "duration": 0.030847,
     "end_time": "2023-07-13T11:26:11.541169",
     "exception": false,
     "start_time": "2023-07-13T11:26:11.510322",
     "status": "completed"
    },
    "tags": []
   },
   "outputs": [],
   "source": [
    "group_two = dataset[dataset[\"labels\"]==2][\"num_comments\"].mean()\n"
   ]
  },
  {
   "cell_type": "code",
   "execution_count": 21,
   "id": "72dcc7d7",
   "metadata": {
    "execution": {
     "iopub.execute_input": "2023-07-13T11:26:11.584981Z",
     "iopub.status.busy": "2023-07-13T11:26:11.584546Z",
     "iopub.status.idle": "2023-07-13T11:26:11.591506Z",
     "shell.execute_reply": "2023-07-13T11:26:11.590383Z"
    },
    "papermill": {
     "duration": 0.032627,
     "end_time": "2023-07-13T11:26:11.594912",
     "exception": false,
     "start_time": "2023-07-13T11:26:11.562285",
     "status": "completed"
    },
    "tags": []
   },
   "outputs": [
    {
     "data": {
      "text/plain": [
       "0.0017264581307471548"
      ]
     },
     "execution_count": 21,
     "metadata": {},
     "output_type": "execute_result"
    }
   ],
   "source": [
    "group_two"
   ]
  },
  {
   "cell_type": "markdown",
   "id": "77820e8d",
   "metadata": {
    "papermill": {
     "duration": 0.02096,
     "end_time": "2023-07-13T11:26:11.638096",
     "exception": false,
     "start_time": "2023-07-13T11:26:11.617136",
     "status": "completed"
    },
    "tags": []
   },
   "source": [
    "# 16. Mean Number of Comments for Group Three"
   ]
  },
  {
   "cell_type": "code",
   "execution_count": 22,
   "id": "93719d3c",
   "metadata": {
    "execution": {
     "iopub.execute_input": "2023-07-13T11:26:11.681806Z",
     "iopub.status.busy": "2023-07-13T11:26:11.681406Z",
     "iopub.status.idle": "2023-07-13T11:26:11.688345Z",
     "shell.execute_reply": "2023-07-13T11:26:11.686991Z"
    },
    "papermill": {
     "duration": 0.031936,
     "end_time": "2023-07-13T11:26:11.691024",
     "exception": false,
     "start_time": "2023-07-13T11:26:11.659088",
     "status": "completed"
    },
    "tags": []
   },
   "outputs": [],
   "source": [
    "group_three = dataset[dataset[\"labels\"]==3][\"num_comments\"].mean()"
   ]
  },
  {
   "cell_type": "code",
   "execution_count": 23,
   "id": "39fc64d2",
   "metadata": {
    "execution": {
     "iopub.execute_input": "2023-07-13T11:26:11.734639Z",
     "iopub.status.busy": "2023-07-13T11:26:11.733966Z",
     "iopub.status.idle": "2023-07-13T11:26:11.740746Z",
     "shell.execute_reply": "2023-07-13T11:26:11.739667Z"
    },
    "papermill": {
     "duration": 0.03117,
     "end_time": "2023-07-13T11:26:11.743087",
     "exception": false,
     "start_time": "2023-07-13T11:26:11.711917",
     "status": "completed"
    },
    "tags": []
   },
   "outputs": [
    {
     "data": {
      "text/plain": [
       "0.00027148226290672723"
      ]
     },
     "execution_count": 23,
     "metadata": {},
     "output_type": "execute_result"
    }
   ],
   "source": [
    "group_three"
   ]
  },
  {
   "cell_type": "markdown",
   "id": "ec1b23e7",
   "metadata": {
    "papermill": {
     "duration": 0.020519,
     "end_time": "2023-07-13T11:26:11.784628",
     "exception": false,
     "start_time": "2023-07-13T11:26:11.764109",
     "status": "completed"
    },
    "tags": []
   },
   "source": [
    "____"
   ]
  },
  {
   "cell_type": "markdown",
   "id": "79bd1d0f",
   "metadata": {
    "papermill": {
     "duration": 0.020343,
     "end_time": "2023-07-13T11:26:11.826175",
     "exception": false,
     "start_time": "2023-07-13T11:26:11.805832",
     "status": "completed"
    },
    "tags": []
   },
   "source": [
    "# 17. Mean Number of Shares for Group Zero"
   ]
  },
  {
   "cell_type": "code",
   "execution_count": 24,
   "id": "d0865bc1",
   "metadata": {
    "execution": {
     "iopub.execute_input": "2023-07-13T11:26:11.869970Z",
     "iopub.status.busy": "2023-07-13T11:26:11.869584Z",
     "iopub.status.idle": "2023-07-13T11:26:11.875772Z",
     "shell.execute_reply": "2023-07-13T11:26:11.874775Z"
    },
    "papermill": {
     "duration": 0.030792,
     "end_time": "2023-07-13T11:26:11.878192",
     "exception": false,
     "start_time": "2023-07-13T11:26:11.847400",
     "status": "completed"
    },
    "tags": []
   },
   "outputs": [],
   "source": [
    "group_zero = dataset[dataset[\"labels\"]==0][\"num_shares\"].mean()"
   ]
  },
  {
   "cell_type": "code",
   "execution_count": 25,
   "id": "03fded4f",
   "metadata": {
    "execution": {
     "iopub.execute_input": "2023-07-13T11:26:11.921900Z",
     "iopub.status.busy": "2023-07-13T11:26:11.921505Z",
     "iopub.status.idle": "2023-07-13T11:26:11.928094Z",
     "shell.execute_reply": "2023-07-13T11:26:11.926975Z"
    },
    "papermill": {
     "duration": 0.031336,
     "end_time": "2023-07-13T11:26:11.930477",
     "exception": false,
     "start_time": "2023-07-13T11:26:11.899141",
     "status": "completed"
    },
    "tags": []
   },
   "outputs": [
    {
     "data": {
      "text/plain": [
       "0.0007458736181824375"
      ]
     },
     "execution_count": 25,
     "metadata": {},
     "output_type": "execute_result"
    }
   ],
   "source": [
    "group_zero"
   ]
  },
  {
   "cell_type": "markdown",
   "id": "1c465d8a",
   "metadata": {
    "papermill": {
     "duration": 0.020805,
     "end_time": "2023-07-13T11:26:11.972524",
     "exception": false,
     "start_time": "2023-07-13T11:26:11.951719",
     "status": "completed"
    },
    "tags": []
   },
   "source": [
    "# 18. Mean Number of Shares for Group One"
   ]
  },
  {
   "cell_type": "code",
   "execution_count": 26,
   "id": "6fb7a57d",
   "metadata": {
    "execution": {
     "iopub.execute_input": "2023-07-13T11:26:12.016790Z",
     "iopub.status.busy": "2023-07-13T11:26:12.016082Z",
     "iopub.status.idle": "2023-07-13T11:26:12.023016Z",
     "shell.execute_reply": "2023-07-13T11:26:12.022050Z"
    },
    "papermill": {
     "duration": 0.031617,
     "end_time": "2023-07-13T11:26:12.025276",
     "exception": false,
     "start_time": "2023-07-13T11:26:11.993659",
     "status": "completed"
    },
    "tags": []
   },
   "outputs": [],
   "source": [
    "group_one = dataset[dataset[\"labels\"]==1][\"num_shares\"].mean()"
   ]
  },
  {
   "cell_type": "code",
   "execution_count": 27,
   "id": "2f578ec2",
   "metadata": {
    "execution": {
     "iopub.execute_input": "2023-07-13T11:26:12.070473Z",
     "iopub.status.busy": "2023-07-13T11:26:12.069981Z",
     "iopub.status.idle": "2023-07-13T11:26:12.076223Z",
     "shell.execute_reply": "2023-07-13T11:26:12.075038Z"
    },
    "papermill": {
     "duration": 0.03173,
     "end_time": "2023-07-13T11:26:12.078563",
     "exception": false,
     "start_time": "2023-07-13T11:26:12.046833",
     "status": "completed"
    },
    "tags": []
   },
   "outputs": [
    {
     "data": {
      "text/plain": [
       "0.033785031713235436"
      ]
     },
     "execution_count": 27,
     "metadata": {},
     "output_type": "execute_result"
    }
   ],
   "source": [
    "group_one"
   ]
  },
  {
   "cell_type": "markdown",
   "id": "8ef04ba4",
   "metadata": {
    "papermill": {
     "duration": 0.020986,
     "end_time": "2023-07-13T11:26:12.120867",
     "exception": false,
     "start_time": "2023-07-13T11:26:12.099881",
     "status": "completed"
    },
    "tags": []
   },
   "source": [
    "# 19. Mean Number of Shares for Group Two"
   ]
  },
  {
   "cell_type": "code",
   "execution_count": 28,
   "id": "05350bc0",
   "metadata": {
    "execution": {
     "iopub.execute_input": "2023-07-13T11:26:12.166033Z",
     "iopub.status.busy": "2023-07-13T11:26:12.165606Z",
     "iopub.status.idle": "2023-07-13T11:26:12.172412Z",
     "shell.execute_reply": "2023-07-13T11:26:12.171242Z"
    },
    "papermill": {
     "duration": 0.031965,
     "end_time": "2023-07-13T11:26:12.174811",
     "exception": false,
     "start_time": "2023-07-13T11:26:12.142846",
     "status": "completed"
    },
    "tags": []
   },
   "outputs": [],
   "source": [
    "group_two = dataset[dataset[\"labels\"]==2][\"num_shares\"].mean()"
   ]
  },
  {
   "cell_type": "code",
   "execution_count": 29,
   "id": "235f4a9e",
   "metadata": {
    "execution": {
     "iopub.execute_input": "2023-07-13T11:26:12.219027Z",
     "iopub.status.busy": "2023-07-13T11:26:12.218610Z",
     "iopub.status.idle": "2023-07-13T11:26:12.224804Z",
     "shell.execute_reply": "2023-07-13T11:26:12.224046Z"
    },
    "papermill": {
     "duration": 0.030904,
     "end_time": "2023-07-13T11:26:12.226938",
     "exception": false,
     "start_time": "2023-07-13T11:26:12.196034",
     "status": "completed"
    },
    "tags": []
   },
   "outputs": [
    {
     "data": {
      "text/plain": [
       "0.0007473434899500528"
      ]
     },
     "execution_count": 29,
     "metadata": {},
     "output_type": "execute_result"
    }
   ],
   "source": [
    "group_two"
   ]
  },
  {
   "cell_type": "markdown",
   "id": "a5824d94",
   "metadata": {
    "papermill": {
     "duration": 0.021107,
     "end_time": "2023-07-13T11:26:12.269542",
     "exception": false,
     "start_time": "2023-07-13T11:26:12.248435",
     "status": "completed"
    },
    "tags": []
   },
   "source": [
    "# 20. Mean Number of Shares for Group Three"
   ]
  },
  {
   "cell_type": "code",
   "execution_count": 30,
   "id": "126baf59",
   "metadata": {
    "execution": {
     "iopub.execute_input": "2023-07-13T11:26:12.314922Z",
     "iopub.status.busy": "2023-07-13T11:26:12.314539Z",
     "iopub.status.idle": "2023-07-13T11:26:12.320481Z",
     "shell.execute_reply": "2023-07-13T11:26:12.319354Z"
    },
    "papermill": {
     "duration": 0.031707,
     "end_time": "2023-07-13T11:26:12.322718",
     "exception": false,
     "start_time": "2023-07-13T11:26:12.291011",
     "status": "completed"
    },
    "tags": []
   },
   "outputs": [],
   "source": [
    "group_three = dataset[dataset[\"labels\"]==3][\"num_shares\"].mean()"
   ]
  },
  {
   "cell_type": "code",
   "execution_count": 31,
   "id": "b7426acf",
   "metadata": {
    "execution": {
     "iopub.execute_input": "2023-07-13T11:26:12.367769Z",
     "iopub.status.busy": "2023-07-13T11:26:12.367360Z",
     "iopub.status.idle": "2023-07-13T11:26:12.374564Z",
     "shell.execute_reply": "2023-07-13T11:26:12.373325Z"
    },
    "papermill": {
     "duration": 0.032615,
     "end_time": "2023-07-13T11:26:12.376735",
     "exception": false,
     "start_time": "2023-07-13T11:26:12.344120",
     "status": "completed"
    },
    "tags": []
   },
   "outputs": [
    {
     "data": {
      "text/plain": [
       "0.001284119566829822"
      ]
     },
     "execution_count": 31,
     "metadata": {},
     "output_type": "execute_result"
    }
   ],
   "source": [
    "group_three"
   ]
  },
  {
   "cell_type": "markdown",
   "id": "25f37f00",
   "metadata": {
    "papermill": {
     "duration": 0.02288,
     "end_time": "2023-07-13T11:26:12.421342",
     "exception": false,
     "start_time": "2023-07-13T11:26:12.398462",
     "status": "completed"
    },
    "tags": []
   },
   "source": [
    "# 21. Most Frequent Status Type"
   ]
  },
  {
   "cell_type": "code",
   "execution_count": 32,
   "id": "8c9224e3",
   "metadata": {
    "execution": {
     "iopub.execute_input": "2023-07-13T11:26:12.465984Z",
     "iopub.status.busy": "2023-07-13T11:26:12.465554Z",
     "iopub.status.idle": "2023-07-13T11:26:12.487148Z",
     "shell.execute_reply": "2023-07-13T11:26:12.486254Z"
    },
    "papermill": {
     "duration": 0.046707,
     "end_time": "2023-07-13T11:26:12.489662",
     "exception": false,
     "start_time": "2023-07-13T11:26:12.442955",
     "status": "completed"
    },
    "tags": []
   },
   "outputs": [],
   "source": [
    "status_type = dataset[[\"status_type_photo\", \"status_type_video\", \"status_type_status\"]].idxmax(axis=1)"
   ]
  },
  {
   "cell_type": "markdown",
   "id": "fa746ccf",
   "metadata": {
    "papermill": {
     "duration": 0.028749,
     "end_time": "2023-07-13T11:26:12.546005",
     "exception": false,
     "start_time": "2023-07-13T11:26:12.517256",
     "status": "completed"
    },
    "tags": []
   },
   "source": [
    "# 22. Merged Dataset with Labels and Status Type"
   ]
  },
  {
   "cell_type": "code",
   "execution_count": 33,
   "id": "fcdce715",
   "metadata": {
    "execution": {
     "iopub.execute_input": "2023-07-13T11:26:12.601282Z",
     "iopub.status.busy": "2023-07-13T11:26:12.600232Z",
     "iopub.status.idle": "2023-07-13T11:26:12.609470Z",
     "shell.execute_reply": "2023-07-13T11:26:12.608233Z"
    },
    "papermill": {
     "duration": 0.042475,
     "end_time": "2023-07-13T11:26:12.612023",
     "exception": false,
     "start_time": "2023-07-13T11:26:12.569548",
     "status": "completed"
    },
    "tags": []
   },
   "outputs": [],
   "source": [
    "dataset = pd.concat([dataset[\"labels\"],status_type.rename(\"status_type\")], axis=1)"
   ]
  },
  {
   "cell_type": "markdown",
   "id": "13ab502f",
   "metadata": {
    "papermill": {
     "duration": 0.021222,
     "end_time": "2023-07-13T11:26:12.656145",
     "exception": false,
     "start_time": "2023-07-13T11:26:12.634923",
     "status": "completed"
    },
    "tags": []
   },
   "source": [
    "# 23. Count of Status Types for Each Label"
   ]
  },
  {
   "cell_type": "code",
   "execution_count": 34,
   "id": "868e35e3",
   "metadata": {
    "execution": {
     "iopub.execute_input": "2023-07-13T11:26:12.700469Z",
     "iopub.status.busy": "2023-07-13T11:26:12.700033Z",
     "iopub.status.idle": "2023-07-13T11:26:12.717642Z",
     "shell.execute_reply": "2023-07-13T11:26:12.716324Z"
    },
    "papermill": {
     "duration": 0.042792,
     "end_time": "2023-07-13T11:26:12.720203",
     "exception": false,
     "start_time": "2023-07-13T11:26:12.677411",
     "status": "completed"
    },
    "tags": []
   },
   "outputs": [
    {
     "data": {
      "text/plain": [
       "labels  status_type       \n",
       "0       status_type_photo     4288\n",
       "1       status_type_video     2334\n",
       "2       status_type_status     365\n",
       "3       status_type_photo       63\n",
       "Name: status_type, dtype: int64"
      ]
     },
     "execution_count": 34,
     "metadata": {},
     "output_type": "execute_result"
    }
   ],
   "source": [
    "dataset.groupby([\"labels\",\"status_type\"])[\"status_type\"].count()"
   ]
  }
 ],
 "metadata": {
  "kernelspec": {
   "display_name": "Python 3",
   "language": "python",
   "name": "python3"
  },
  "language_info": {
   "codemirror_mode": {
    "name": "ipython",
    "version": 3
   },
   "file_extension": ".py",
   "mimetype": "text/x-python",
   "name": "python",
   "nbconvert_exporter": "python",
   "pygments_lexer": "ipython3",
   "version": "3.10.12"
  },
  "papermill": {
   "default_parameters": {},
   "duration": 40.938565,
   "end_time": "2023-07-13T11:26:13.765195",
   "environment_variables": {},
   "exception": null,
   "input_path": "__notebook__.ipynb",
   "output_path": "__notebook__.ipynb",
   "parameters": {},
   "start_time": "2023-07-13T11:25:32.826630",
   "version": "2.4.0"
  }
 },
 "nbformat": 4,
 "nbformat_minor": 5
}
